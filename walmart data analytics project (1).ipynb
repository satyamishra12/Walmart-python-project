{
 "cells": [
  {
   "cell_type": "markdown",
   "id": "8ebfc04b",
   "metadata": {},
   "source": [
    "# Assignment for Data Analyst Intern @Jar"
   ]
  },
  {
   "cell_type": "markdown",
   "id": "797eb4c2",
   "metadata": {},
   "source": [
    "## 1. Walmart Sales Analysis:"
   ]
  },
  {
   "cell_type": "markdown",
   "id": "480ffda2",
   "metadata": {},
   "source": [
    "### A. Analyze the performance of sales and revenue at the city and branch level "
   ]
  },
  {
   "cell_type": "code",
   "execution_count": 3,
   "id": "c235d6ae",
   "metadata": {},
   "outputs": [],
   "source": [
    "import pandas as pd\n",
    "import numpy as np\n",
    "import matplotlib.pyplot as plt\n",
    "import seaborn as sns"
   ]
  },
  {
   "cell_type": "code",
   "execution_count": 4,
   "id": "f31fe462",
   "metadata": {},
   "outputs": [],
   "source": [
    "file_path = r\"C:\\Users\\satya\\Downloads\\Walmart Sales.xlsx\"\n",
    "df = pd.read_excel(r\"C:\\Users\\satya\\Downloads\\Walmart Sales.xlsx\")"
   ]
  },
  {
   "cell_type": "code",
   "execution_count": 5,
   "id": "98e66513",
   "metadata": {},
   "outputs": [
    {
     "data": {
      "text/html": [
       "<div>\n",
       "<style scoped>\n",
       "    .dataframe tbody tr th:only-of-type {\n",
       "        vertical-align: middle;\n",
       "    }\n",
       "\n",
       "    .dataframe tbody tr th {\n",
       "        vertical-align: top;\n",
       "    }\n",
       "\n",
       "    .dataframe thead th {\n",
       "        text-align: right;\n",
       "    }\n",
       "</style>\n",
       "<table border=\"1\" class=\"dataframe\">\n",
       "  <thead>\n",
       "    <tr style=\"text-align: right;\">\n",
       "      <th></th>\n",
       "      <th>Invoice ID</th>\n",
       "      <th>Branch</th>\n",
       "      <th>City</th>\n",
       "      <th>Customer type</th>\n",
       "      <th>Gender</th>\n",
       "      <th>Product line</th>\n",
       "      <th>Unit price</th>\n",
       "      <th>Quantity</th>\n",
       "      <th>Date</th>\n",
       "      <th>Time</th>\n",
       "      <th>Payment</th>\n",
       "      <th>Rating</th>\n",
       "    </tr>\n",
       "  </thead>\n",
       "  <tbody>\n",
       "    <tr>\n",
       "      <th>0</th>\n",
       "      <td>750-67-8428</td>\n",
       "      <td>A</td>\n",
       "      <td>Yangon</td>\n",
       "      <td>Member</td>\n",
       "      <td>Female</td>\n",
       "      <td>Health and beauty</td>\n",
       "      <td>74.69</td>\n",
       "      <td>7</td>\n",
       "      <td>1/5/2019</td>\n",
       "      <td>13:08:00</td>\n",
       "      <td>Ewallet</td>\n",
       "      <td>9.1</td>\n",
       "    </tr>\n",
       "    <tr>\n",
       "      <th>1</th>\n",
       "      <td>226-31-3081</td>\n",
       "      <td>A</td>\n",
       "      <td>Naypyitaw</td>\n",
       "      <td>Normal</td>\n",
       "      <td>Female</td>\n",
       "      <td>Electronic accessories</td>\n",
       "      <td>15.28</td>\n",
       "      <td>5</td>\n",
       "      <td>3/8/2019</td>\n",
       "      <td>10:29:00</td>\n",
       "      <td>Cash</td>\n",
       "      <td>9.6</td>\n",
       "    </tr>\n",
       "    <tr>\n",
       "      <th>2</th>\n",
       "      <td>631-41-3108</td>\n",
       "      <td>A</td>\n",
       "      <td>Yangon</td>\n",
       "      <td>Normal</td>\n",
       "      <td>Male</td>\n",
       "      <td>Home and lifestyle</td>\n",
       "      <td>46.33</td>\n",
       "      <td>7</td>\n",
       "      <td>3/3/2019</td>\n",
       "      <td>13:23:00</td>\n",
       "      <td>Credit card</td>\n",
       "      <td>7.4</td>\n",
       "    </tr>\n",
       "    <tr>\n",
       "      <th>3</th>\n",
       "      <td>123-19-1176</td>\n",
       "      <td>B</td>\n",
       "      <td>Yangon</td>\n",
       "      <td>Member</td>\n",
       "      <td>Male</td>\n",
       "      <td>Health and beauty</td>\n",
       "      <td>58.22</td>\n",
       "      <td>8</td>\n",
       "      <td>1/27/2019</td>\n",
       "      <td>20:33:00</td>\n",
       "      <td>Ewallet</td>\n",
       "      <td>8.4</td>\n",
       "    </tr>\n",
       "    <tr>\n",
       "      <th>4</th>\n",
       "      <td>373-73-7910</td>\n",
       "      <td>C</td>\n",
       "      <td>Yangon</td>\n",
       "      <td>Normal</td>\n",
       "      <td>Male</td>\n",
       "      <td>Sports and travel</td>\n",
       "      <td>86.31</td>\n",
       "      <td>7</td>\n",
       "      <td>2/8/2019</td>\n",
       "      <td>10:37:00</td>\n",
       "      <td>Ewallet</td>\n",
       "      <td>5.3</td>\n",
       "    </tr>\n",
       "  </tbody>\n",
       "</table>\n",
       "</div>"
      ],
      "text/plain": [
       "    Invoice ID Branch       City Customer type  Gender  \\\n",
       "0  750-67-8428      A     Yangon        Member  Female   \n",
       "1  226-31-3081      A  Naypyitaw        Normal  Female   \n",
       "2  631-41-3108      A     Yangon        Normal    Male   \n",
       "3  123-19-1176      B     Yangon        Member    Male   \n",
       "4  373-73-7910      C     Yangon        Normal    Male   \n",
       "\n",
       "             Product line  Unit price  Quantity       Date      Time  \\\n",
       "0       Health and beauty       74.69         7   1/5/2019  13:08:00   \n",
       "1  Electronic accessories       15.28         5   3/8/2019  10:29:00   \n",
       "2      Home and lifestyle       46.33         7   3/3/2019  13:23:00   \n",
       "3       Health and beauty       58.22         8  1/27/2019  20:33:00   \n",
       "4       Sports and travel       86.31         7   2/8/2019  10:37:00   \n",
       "\n",
       "       Payment  Rating  \n",
       "0      Ewallet     9.1  \n",
       "1         Cash     9.6  \n",
       "2  Credit card     7.4  \n",
       "3      Ewallet     8.4  \n",
       "4      Ewallet     5.3  "
      ]
     },
     "execution_count": 5,
     "metadata": {},
     "output_type": "execute_result"
    }
   ],
   "source": [
    "df.head()"
   ]
  },
  {
   "cell_type": "code",
   "execution_count": 6,
   "id": "e999ca13",
   "metadata": {},
   "outputs": [
    {
     "data": {
      "text/plain": [
       "(1000, 12)"
      ]
     },
     "execution_count": 6,
     "metadata": {},
     "output_type": "execute_result"
    }
   ],
   "source": [
    "df.shape"
   ]
  },
  {
   "cell_type": "code",
   "execution_count": 6,
   "id": "a0acc8b5",
   "metadata": {},
   "outputs": [
    {
     "data": {
      "text/html": [
       "<div>\n",
       "<style scoped>\n",
       "    .dataframe tbody tr th:only-of-type {\n",
       "        vertical-align: middle;\n",
       "    }\n",
       "\n",
       "    .dataframe tbody tr th {\n",
       "        vertical-align: top;\n",
       "    }\n",
       "\n",
       "    .dataframe thead th {\n",
       "        text-align: right;\n",
       "    }\n",
       "</style>\n",
       "<table border=\"1\" class=\"dataframe\">\n",
       "  <thead>\n",
       "    <tr style=\"text-align: right;\">\n",
       "      <th></th>\n",
       "      <th>Invoice ID</th>\n",
       "      <th>Branch</th>\n",
       "      <th>City</th>\n",
       "      <th>Customer type</th>\n",
       "      <th>Gender</th>\n",
       "      <th>Product line</th>\n",
       "      <th>Unit price</th>\n",
       "      <th>Quantity</th>\n",
       "      <th>Date</th>\n",
       "      <th>Time</th>\n",
       "      <th>Payment</th>\n",
       "      <th>Rating</th>\n",
       "    </tr>\n",
       "  </thead>\n",
       "  <tbody>\n",
       "    <tr>\n",
       "      <th>995</th>\n",
       "      <td>233-67-5758</td>\n",
       "      <td>A</td>\n",
       "      <td>Naypyitaw</td>\n",
       "      <td>Normal</td>\n",
       "      <td>Male</td>\n",
       "      <td>Health and beauty</td>\n",
       "      <td>40.35</td>\n",
       "      <td>1</td>\n",
       "      <td>1/29/2019</td>\n",
       "      <td>13:46:00</td>\n",
       "      <td>Ewallet</td>\n",
       "      <td>6.2</td>\n",
       "    </tr>\n",
       "    <tr>\n",
       "      <th>996</th>\n",
       "      <td>303-96-2227</td>\n",
       "      <td>A</td>\n",
       "      <td>Mandalay</td>\n",
       "      <td>Normal</td>\n",
       "      <td>Female</td>\n",
       "      <td>Home and lifestyle</td>\n",
       "      <td>97.38</td>\n",
       "      <td>10</td>\n",
       "      <td>3/2/2019</td>\n",
       "      <td>17:16:00</td>\n",
       "      <td>Ewallet</td>\n",
       "      <td>4.4</td>\n",
       "    </tr>\n",
       "    <tr>\n",
       "      <th>997</th>\n",
       "      <td>727-02-1313</td>\n",
       "      <td>A</td>\n",
       "      <td>Yangon</td>\n",
       "      <td>Member</td>\n",
       "      <td>Male</td>\n",
       "      <td>Food and beverages</td>\n",
       "      <td>31.84</td>\n",
       "      <td>1</td>\n",
       "      <td>2/9/2019</td>\n",
       "      <td>13:22:00</td>\n",
       "      <td>Cash</td>\n",
       "      <td>7.7</td>\n",
       "    </tr>\n",
       "    <tr>\n",
       "      <th>998</th>\n",
       "      <td>347-56-2442</td>\n",
       "      <td>B</td>\n",
       "      <td>Yangon</td>\n",
       "      <td>Normal</td>\n",
       "      <td>Male</td>\n",
       "      <td>Home and lifestyle</td>\n",
       "      <td>65.82</td>\n",
       "      <td>1</td>\n",
       "      <td>2/22/2019</td>\n",
       "      <td>15:33:00</td>\n",
       "      <td>Cash</td>\n",
       "      <td>4.1</td>\n",
       "    </tr>\n",
       "    <tr>\n",
       "      <th>999</th>\n",
       "      <td>849-09-3807</td>\n",
       "      <td>C</td>\n",
       "      <td>Yangon</td>\n",
       "      <td>Member</td>\n",
       "      <td>Female</td>\n",
       "      <td>Fashion accessories</td>\n",
       "      <td>88.34</td>\n",
       "      <td>7</td>\n",
       "      <td>2/18/2019</td>\n",
       "      <td>13:28:00</td>\n",
       "      <td>Cash</td>\n",
       "      <td>6.6</td>\n",
       "    </tr>\n",
       "  </tbody>\n",
       "</table>\n",
       "</div>"
      ],
      "text/plain": [
       "      Invoice ID Branch       City Customer type  Gender         Product line  \\\n",
       "995  233-67-5758      A  Naypyitaw        Normal    Male    Health and beauty   \n",
       "996  303-96-2227      A   Mandalay        Normal  Female   Home and lifestyle   \n",
       "997  727-02-1313      A     Yangon        Member    Male   Food and beverages   \n",
       "998  347-56-2442      B     Yangon        Normal    Male   Home and lifestyle   \n",
       "999  849-09-3807      C     Yangon        Member  Female  Fashion accessories   \n",
       "\n",
       "     Unit price  Quantity       Date      Time  Payment  Rating  \n",
       "995       40.35         1  1/29/2019  13:46:00  Ewallet     6.2  \n",
       "996       97.38        10   3/2/2019  17:16:00  Ewallet     4.4  \n",
       "997       31.84         1   2/9/2019  13:22:00     Cash     7.7  \n",
       "998       65.82         1  2/22/2019  15:33:00     Cash     4.1  \n",
       "999       88.34         7  2/18/2019  13:28:00     Cash     6.6  "
      ]
     },
     "execution_count": 6,
     "metadata": {},
     "output_type": "execute_result"
    }
   ],
   "source": [
    "df.tail()"
   ]
  },
  {
   "cell_type": "code",
   "execution_count": 10,
   "id": "54289776",
   "metadata": {},
   "outputs": [
    {
     "name": "stdout",
     "output_type": "stream",
     "text": [
      "<class 'pandas.core.frame.DataFrame'>\n",
      "RangeIndex: 1000 entries, 0 to 999\n",
      "Data columns (total 12 columns):\n",
      " #   Column         Non-Null Count  Dtype  \n",
      "---  ------         --------------  -----  \n",
      " 0   Invoice ID     1000 non-null   object \n",
      " 1   Branch         1000 non-null   object \n",
      " 2   City           1000 non-null   object \n",
      " 3   Customer type  1000 non-null   object \n",
      " 4   Gender         1000 non-null   object \n",
      " 5   Product line   1000 non-null   object \n",
      " 6   Unit price     1000 non-null   float64\n",
      " 7   Quantity       1000 non-null   int64  \n",
      " 8   Date           1000 non-null   object \n",
      " 9   Time           1000 non-null   object \n",
      " 10  Payment        1000 non-null   object \n",
      " 11  Rating         1000 non-null   float64\n",
      "dtypes: float64(2), int64(1), object(9)\n",
      "memory usage: 93.9+ KB\n"
     ]
    }
   ],
   "source": [
    "df.info()"
   ]
  },
  {
   "cell_type": "code",
   "execution_count": 9,
   "id": "749c5d55",
   "metadata": {},
   "outputs": [
    {
     "data": {
      "text/html": [
       "<div>\n",
       "<style scoped>\n",
       "    .dataframe tbody tr th:only-of-type {\n",
       "        vertical-align: middle;\n",
       "    }\n",
       "\n",
       "    .dataframe tbody tr th {\n",
       "        vertical-align: top;\n",
       "    }\n",
       "\n",
       "    .dataframe thead th {\n",
       "        text-align: right;\n",
       "    }\n",
       "</style>\n",
       "<table border=\"1\" class=\"dataframe\">\n",
       "  <thead>\n",
       "    <tr style=\"text-align: right;\">\n",
       "      <th></th>\n",
       "      <th>Unit price</th>\n",
       "      <th>Quantity</th>\n",
       "      <th>Rating</th>\n",
       "    </tr>\n",
       "  </thead>\n",
       "  <tbody>\n",
       "    <tr>\n",
       "      <th>count</th>\n",
       "      <td>1000.000000</td>\n",
       "      <td>1000.000000</td>\n",
       "      <td>1000.00000</td>\n",
       "    </tr>\n",
       "    <tr>\n",
       "      <th>mean</th>\n",
       "      <td>55.672130</td>\n",
       "      <td>5.510000</td>\n",
       "      <td>6.97270</td>\n",
       "    </tr>\n",
       "    <tr>\n",
       "      <th>std</th>\n",
       "      <td>26.494628</td>\n",
       "      <td>2.923431</td>\n",
       "      <td>1.71858</td>\n",
       "    </tr>\n",
       "    <tr>\n",
       "      <th>min</th>\n",
       "      <td>10.080000</td>\n",
       "      <td>1.000000</td>\n",
       "      <td>4.00000</td>\n",
       "    </tr>\n",
       "    <tr>\n",
       "      <th>25%</th>\n",
       "      <td>32.875000</td>\n",
       "      <td>3.000000</td>\n",
       "      <td>5.50000</td>\n",
       "    </tr>\n",
       "    <tr>\n",
       "      <th>50%</th>\n",
       "      <td>55.230000</td>\n",
       "      <td>5.000000</td>\n",
       "      <td>7.00000</td>\n",
       "    </tr>\n",
       "    <tr>\n",
       "      <th>75%</th>\n",
       "      <td>77.935000</td>\n",
       "      <td>8.000000</td>\n",
       "      <td>8.50000</td>\n",
       "    </tr>\n",
       "    <tr>\n",
       "      <th>max</th>\n",
       "      <td>99.960000</td>\n",
       "      <td>10.000000</td>\n",
       "      <td>10.00000</td>\n",
       "    </tr>\n",
       "  </tbody>\n",
       "</table>\n",
       "</div>"
      ],
      "text/plain": [
       "        Unit price     Quantity      Rating\n",
       "count  1000.000000  1000.000000  1000.00000\n",
       "mean     55.672130     5.510000     6.97270\n",
       "std      26.494628     2.923431     1.71858\n",
       "min      10.080000     1.000000     4.00000\n",
       "25%      32.875000     3.000000     5.50000\n",
       "50%      55.230000     5.000000     7.00000\n",
       "75%      77.935000     8.000000     8.50000\n",
       "max      99.960000    10.000000    10.00000"
      ]
     },
     "execution_count": 9,
     "metadata": {},
     "output_type": "execute_result"
    }
   ],
   "source": [
    "df.describe()"
   ]
  },
  {
   "cell_type": "code",
   "execution_count": 11,
   "id": "aeaa980a",
   "metadata": {},
   "outputs": [
    {
     "name": "stdout",
     "output_type": "stream",
     "text": [
      "Invoice ID       0\n",
      "Branch           0\n",
      "City             0\n",
      "Customer type    0\n",
      "Gender           0\n",
      "Product line     0\n",
      "Unit price       0\n",
      "Quantity         0\n",
      "Date             0\n",
      "Time             0\n",
      "Payment          0\n",
      "Rating           0\n",
      "dtype: int64\n"
     ]
    }
   ],
   "source": [
    "print(df.isnull().sum())\n",
    "df.dropna(inplace=True)"
   ]
  },
  {
   "cell_type": "code",
   "execution_count": 14,
   "id": "c827c097",
   "metadata": {},
   "outputs": [
    {
     "name": "stdout",
     "output_type": "stream",
     "text": [
      "Index(['Invoice ID', 'Branch', 'City', 'Customer type', 'Gender',\n",
      "       'Product line', 'Unit price', 'Quantity', 'Date', 'Time', 'Payment',\n",
      "       'Rating'],\n",
      "      dtype='object')\n"
     ]
    }
   ],
   "source": [
    "print(df.columns)"
   ]
  },
  {
   "cell_type": "code",
   "execution_count": 25,
   "id": "0b78543e",
   "metadata": {},
   "outputs": [
    {
     "name": "stdout",
     "output_type": "stream",
     "text": [
      "City Sales and Revenue:\n",
      "        City  Total_Sales_Value  Unit price\n",
      "0   Mandalay          101140.64    18478.88\n",
      "1  Naypyitaw          105303.53    18567.76\n",
      "2     Yangon          101143.21    18625.49\n",
      "\n",
      "Branch Sales and Revenue:\n",
      "  Branch  Total_Sales_Value  Unit price\n",
      "0      A          103763.00    18645.54\n",
      "1      B          107567.19    19251.62\n",
      "2      C           96257.19    17774.97\n"
     ]
    }
   ],
   "source": [
    "# Group by city and calculate total sales and revenue\n",
    "try:\n",
    "    city_sales = df.groupby('City').agg({'Total_Sales_Value': 'sum', 'Unit price': 'sum'}).reset_index()\n",
    "    print(\"City Sales and Revenue:\")\n",
    "    print(city_sales)\n",
    "except KeyError as e:\n",
    "    print(f\"Column(s) {e} do not exist. Please check the column names in your DataFrame.\")\n",
    "\n",
    "# Group by branch and calculate total sales and revenue\n",
    "try:\n",
    "    branch_sales = df.groupby('Branch').agg({'Total_Sales_Value': 'sum', 'Unit price': 'sum'}).reset_index()\n",
    "    print(\"\\nBranch Sales and Revenue:\")\n",
    "    print(branch_sales)\n",
    "except KeyError as e:\n",
    "    print(f\"Column(s) {e} do not exist. Please check the column names in your DataFrame.\")\n"
   ]
  },
  {
   "cell_type": "markdown",
   "id": "bfe17052",
   "metadata": {},
   "source": [
    "### B. What is the average price of an item sold at each branch of the city ."
   ]
  },
  {
   "cell_type": "code",
   "execution_count": 48,
   "id": "3990e436",
   "metadata": {},
   "outputs": [
    {
     "name": "stdout",
     "output_type": "stream",
     "text": [
      "        City Branch  Average_Unit price\n",
      "0   Mandalay      A           53.353866\n",
      "1   Mandalay      B           56.133305\n",
      "2   Mandalay      C           57.958316\n",
      "3  Naypyitaw      A           54.123182\n",
      "4  Naypyitaw      B           57.785688\n",
      "5  Naypyitaw      C           57.941009\n",
      "6     Yangon      A           55.639298\n",
      "7     Yangon      B           56.011062\n",
      "8     Yangon      C           52.684602\n"
     ]
    }
   ],
   "source": [
    "average_price = df.groupby(['City', 'Branch'])['Unit price'].mean().reset_index()\n",
    "\n",
    "# Rename columns for clarity\n",
    "average_price.columns = ['City', 'Branch', 'Average_Unit price']\n",
    "\n",
    "# Display the results\n",
    "print(average_price)"
   ]
  },
  {
   "cell_type": "markdown",
   "id": "342e7ed6",
   "metadata": {},
   "source": [
    "### C. Analyze the performance of sales and revenue, Month over Month across the Product line, Gender, and Payment Method, and identify the focus areas toget better sales for April 2019. "
   ]
  },
  {
   "cell_type": "code",
   "execution_count": 39,
   "id": "eac67799",
   "metadata": {},
   "outputs": [],
   "source": [
    "df['Date'] = pd.to_datetime(df['Date'])"
   ]
  },
  {
   "cell_type": "code",
   "execution_count": 40,
   "id": "eb0c198f",
   "metadata": {},
   "outputs": [],
   "source": [
    "df['Month'] = df['Date'].dt.month\n",
    "df['Year'] = df['Date'].dt.year"
   ]
  },
  {
   "cell_type": "code",
   "execution_count": 49,
   "id": "81691700",
   "metadata": {},
   "outputs": [],
   "source": [
    "monthly_sales = df.groupby(['Year', 'Month']).agg({'Unit price': 'sum', 'Quantity': 'sum'}).reset_index()\n"
   ]
  },
  {
   "cell_type": "code",
   "execution_count": 50,
   "id": "fb32b346",
   "metadata": {},
   "outputs": [],
   "source": [
    "product_line_sales = df.groupby(['Year', 'Month', 'Product line']).agg({'Unit price': 'sum', 'Quantity': 'sum'}).reset_index()\n"
   ]
  },
  {
   "cell_type": "code",
   "execution_count": 52,
   "id": "50becc5f",
   "metadata": {},
   "outputs": [],
   "source": [
    "gender_sales = df.groupby(['Year', 'Month', 'Gender']).agg({'Unit price': 'sum', 'Quantity': 'sum'}).reset_index()\n"
   ]
  },
  {
   "cell_type": "code",
   "execution_count": 53,
   "id": "93ef2a40",
   "metadata": {},
   "outputs": [],
   "source": [
    "payment_sales = df.groupby(['Year', 'Month', 'Payment']).agg({'Unit price': 'sum', 'Quantity': 'sum'}).reset_index()\n"
   ]
  },
  {
   "cell_type": "code",
   "execution_count": 57,
   "id": "6e8d6412",
   "metadata": {},
   "outputs": [],
   "source": [
    "april_2019_sales = df[(df['Year'] == 2019) & (df['Month'] == 4)]\n",
    "april_product_line_sales = april_2019_sales.groupby('Product line').agg({'Unit price': 'sum', 'Quantity': 'sum'}).reset_index()\n",
    "april_gender_sales = april_2019_sales.groupby('Gender').agg({'Unit price': 'sum', 'Quantity': 'sum'}).reset_index()\n",
    "april_payment_sales = april_2019_sales.groupby('Payment').agg({'Unit price': 'sum', 'Quantity': 'sum'}).reset_index()\n"
   ]
  },
  {
   "cell_type": "code",
   "execution_count": 59,
   "id": "b5839275",
   "metadata": {},
   "outputs": [
    {
     "name": "stdout",
     "output_type": "stream",
     "text": [
      "   Year  Month  Quantity  Unit price\n",
      "0  2019      1      1965    19753.89\n",
      "1  2019      2      1654    17159.52\n",
      "2  2019      3      1891    18758.72\n",
      "Empty DataFrame\n",
      "Columns: [Product line, Unit price, Quantity]\n",
      "Index: []\n",
      "Empty DataFrame\n",
      "Columns: [Gender, Unit price, Quantity]\n",
      "Index: []\n",
      "Empty DataFrame\n",
      "Columns: [Payment, Unit price, Quantity]\n",
      "Index: []\n"
     ]
    }
   ],
   "source": [
    "print(monthly_sales)\n",
    "print(april_product_line_sales)\n",
    "print(april_gender_sales)\n",
    "print(april_payment_sales)\n"
   ]
  },
  {
   "cell_type": "markdown",
   "id": "5733b1bf",
   "metadata": {},
   "source": [
    "# 2. App Exploration:"
   ]
  },
  {
   "cell_type": "markdown",
   "id": "c33eac4a",
   "metadata": {},
   "source": [
    "### Explore the features and user experience of the Jar app. Identify two aspects that you think could be significantly improved and explain your reasoning behind each suggestion."
   ]
  },
  {
   "cell_type": "markdown",
   "id": "2272d640",
   "metadata": {},
   "source": [
    "The Jar app is designed for automated savings and investments, allowing users to save small amounts of money regularly. \n",
    "Here's a closer look at two aspects that could be significantly improved:"
   ]
  },
  {
   "cell_type": "markdown",
   "id": "8d99bfda",
   "metadata": {},
   "source": [
    "1. User Interface (UI) and Navigation"
   ]
  },
  {
   "cell_type": "markdown",
   "id": "7703c2c3",
   "metadata": {},
   "source": [
    "Current Issue: Some users find the app’s navigation to be unintuitive, with key features buried under multiple layers. \n",
    "This can make it difficult for new users to find and use the app’s primary functions.\n",
    "Suggested Improvement: Simplify the navigation by reorganizing the menu structure. Key features like savings, investments\n",
    ", and transaction history should be accessible from the main dashboard. Implementing a more intuitive design with clear\n",
    "labels and icons will enhance user experience."
   ]
  },
  {
   "cell_type": "markdown",
   "id": "74afc9aa",
   "metadata": {},
   "source": [
    "2. Personalization and Insights"
   ]
  },
  {
   "cell_type": "markdown",
   "id": "22bfb956",
   "metadata": {},
   "source": [
    "Current Issue: The app provides basic insights into savings and spending habits, but these are often generic and lack personalization.\n",
    "Suggested Improvement: Enhance the personalization of financial insights. Use data analytics to offer customized advice based\n",
    " on user behavior. For example, the app could suggest tailored savings goals, personalized investment plans, and spending tips.\n",
    "Adding machine learning algorithms to predict and advise on future financial behaviors would add significant \n",
    " value."
   ]
  },
  {
   "cell_type": "code",
   "execution_count": null,
   "id": "fec2b483",
   "metadata": {},
   "outputs": [],
   "source": [
    "By addressing these areas, the Jar app can improve its user experience, making it more user-friendly and effective in helping \n",
    "users manage their finances."
   ]
  },
  {
   "cell_type": "markdown",
   "id": "ac5a79e7",
   "metadata": {},
   "source": [
    "# 3. Product Optimisation:"
   ]
  },
  {
   "cell_type": "markdown",
   "id": "b3f2d4d6",
   "metadata": {},
   "source": [
    "#### To increase the number of users engaging with the 'Spin to Win' feature on the Jar app, several strategies can be implemented:"
   ]
  },
  {
   "cell_type": "markdown",
   "id": "d1cb539f",
   "metadata": {},
   "source": [
    "1. In-App Notifications and Reminders"
   ]
  },
  {
   "cell_type": "markdown",
   "id": "c75e4ba9",
   "metadata": {},
   "source": [
    ".Push Notifications: Send daily reminders to users about the 'Spin to Win' feature.\n",
    ".In-App Messages: Use pop-up messages or banners within the app to highlight the benefits and fun of playing the game."
   ]
  },
  {
   "cell_type": "markdown",
   "id": "f1ad5440",
   "metadata": {},
   "source": [
    "2. Incentivization and Rewards"
   ]
  },
  {
   "cell_type": "markdown",
   "id": "52ab9b23",
   "metadata": {},
   "source": [
    ".Instant Rewards: Offer immediate, tangible rewards like discounts or cashback for participating in the spin.\n",
    ".Loyalty Points: Accumulate points for every spin, redeemable for larger rewards or exclusive offers."
   ]
  },
  {
   "cell_type": "markdown",
   "id": "dcd37f66",
   "metadata": {},
   "source": [
    "3. Enhanced Visibility"
   ]
  },
  {
   "cell_type": "markdown",
   "id": "0c9df906",
   "metadata": {},
   "source": [
    ".Homepage Integration: Place the 'Spin to Win' feature prominently on the app's homepage.\n",
    ".Visual Appeal: Use eye-catching graphics and animations to attract attention to the game."
   ]
  },
  {
   "cell_type": "markdown",
   "id": "5e1c137a",
   "metadata": {},
   "source": [
    "4. Gamification and Social Proof"
   ]
  },
  {
   "cell_type": "markdown",
   "id": "7a7166c0",
   "metadata": {},
   "source": [
    ".Leaderboard: Introduce a leaderboard showing top players and their rewards, fostering a competitive spirit.\n",
    ".Shareable Achievements: Allow users to share their spin results on social media, encouraging their network to try it out."
   ]
  },
  {
   "cell_type": "markdown",
   "id": "bf2fb022",
   "metadata": {},
   "source": [
    "5. Personalized Invites"
   ]
  },
  {
   "cell_type": "markdown",
   "id": "2750d7c0",
   "metadata": {},
   "source": [
    ".Targeted Invitations: Send personalized invites to users who haven’t tried the feature yet, based on their app activity.\n",
    ".User-Specific Challenges: Create challenges tailored to individual users to encourage them to spin the wheel."
   ]
  },
  {
   "cell_type": "markdown",
   "id": "6dec0089",
   "metadata": {},
   "source": [
    "6. Educational Prompts"
   ]
  },
  {
   "cell_type": "markdown",
   "id": "7f35849d",
   "metadata": {},
   "source": [
    ".Tutorials: Provide short tutorials or guides explaining how the 'Spin to Win' feature works and its benefits.\n",
    ".User Testimonials: Share success stories from other users who have benefited from the game."
   ]
  },
  {
   "cell_type": "markdown",
   "id": "b947466a",
   "metadata": {},
   "source": [
    "7. Time-Limited Promotions"
   ]
  },
  {
   "cell_type": "markdown",
   "id": "78de2abe",
   "metadata": {},
   "source": [
    "Limited-Time Offers: Introduce limited-time offers that can only be unlocked by spinning the wheel, creating a sense of urgency."
   ]
  },
  {
   "cell_type": "markdown",
   "id": "2e62e186",
   "metadata": {},
   "source": [
    "By implementing these strategies, the Jar app can increase user engagement with the 'Spin to Win' feature and drive more users\n",
    "to participate, ultimately improving retention and transaction rates."
   ]
  },
  {
   "cell_type": "code",
   "execution_count": null,
   "id": "9db94d88",
   "metadata": {},
   "outputs": [],
   "source": []
  }
 ],
 "metadata": {
  "kernelspec": {
   "display_name": "Python 3 (ipykernel)",
   "language": "python",
   "name": "python3"
  },
  "language_info": {
   "codemirror_mode": {
    "name": "ipython",
    "version": 3
   },
   "file_extension": ".py",
   "mimetype": "text/x-python",
   "name": "python",
   "nbconvert_exporter": "python",
   "pygments_lexer": "ipython3",
   "version": "3.11.5"
  }
 },
 "nbformat": 4,
 "nbformat_minor": 5
}
